{
 "cells": [
  {
   "cell_type": "code",
   "execution_count": 9,
   "metadata": {},
   "outputs": [],
   "source": [
    "import pandas as pd"
   ]
  },
  {
   "cell_type": "code",
   "execution_count": 10,
   "metadata": {},
   "outputs": [],
   "source": [
    "df = pd.read_csv(\"../../data/naver_shopping.csv\", encoding = 'utf-8', index_col = 0)"
   ]
  },
  {
   "cell_type": "code",
   "execution_count": 6,
   "metadata": {},
   "outputs": [
    {
     "data": {
      "text/html": [
       "<div>\n",
       "<style scoped>\n",
       "    .dataframe tbody tr th:only-of-type {\n",
       "        vertical-align: middle;\n",
       "    }\n",
       "\n",
       "    .dataframe tbody tr th {\n",
       "        vertical-align: top;\n",
       "    }\n",
       "\n",
       "    .dataframe thead th {\n",
       "        text-align: right;\n",
       "    }\n",
       "</style>\n",
       "<table border=\"1\" class=\"dataframe\">\n",
       "  <thead>\n",
       "    <tr style=\"text-align: right;\">\n",
       "      <th></th>\n",
       "      <th>Score</th>\n",
       "      <th>Review</th>\n",
       "    </tr>\n",
       "  </thead>\n",
       "  <tbody>\n",
       "    <tr>\n",
       "      <th>0</th>\n",
       "      <td>5</td>\n",
       "      <td>배공빠르고 굿</td>\n",
       "    </tr>\n",
       "    <tr>\n",
       "      <th>1</th>\n",
       "      <td>2</td>\n",
       "      <td>택배가 엉망이네용 저희집 밑에층에 말도없이 놔두고가고</td>\n",
       "    </tr>\n",
       "    <tr>\n",
       "      <th>2</th>\n",
       "      <td>5</td>\n",
       "      <td>아주좋아요 바지 정말 좋아서2개 더 구매했어요 이가격에 대박입니다. 바느질이 조금 ...</td>\n",
       "    </tr>\n",
       "    <tr>\n",
       "      <th>3</th>\n",
       "      <td>2</td>\n",
       "      <td>선물용으로 빨리 받아서 전달했어야 하는 상품이었는데 머그컵만 와서 당황했습니다. 전...</td>\n",
       "    </tr>\n",
       "    <tr>\n",
       "      <th>4</th>\n",
       "      <td>5</td>\n",
       "      <td>민트색상 예뻐요. 옆 손잡이는 거는 용도로도 사용되네요 ㅎㅎ</td>\n",
       "    </tr>\n",
       "  </tbody>\n",
       "</table>\n",
       "</div>"
      ],
      "text/plain": [
       "   Score                                             Review\n",
       "0      5                                            배공빠르고 굿\n",
       "1      2                      택배가 엉망이네용 저희집 밑에층에 말도없이 놔두고가고\n",
       "2      5  아주좋아요 바지 정말 좋아서2개 더 구매했어요 이가격에 대박입니다. 바느질이 조금 ...\n",
       "3      2  선물용으로 빨리 받아서 전달했어야 하는 상품이었는데 머그컵만 와서 당황했습니다. 전...\n",
       "4      5                  민트색상 예뻐요. 옆 손잡이는 거는 용도로도 사용되네요 ㅎㅎ"
      ]
     },
     "execution_count": 6,
     "metadata": {},
     "output_type": "execute_result"
    }
   ],
   "source": [
    "df.head()"
   ]
  },
  {
   "cell_type": "code",
   "execution_count": 7,
   "metadata": {},
   "outputs": [
    {
     "name": "stdout",
     "output_type": "stream",
     "text": [
      "<class 'pandas.core.frame.DataFrame'>\n",
      "Int64Index: 200000 entries, 0 to 199999\n",
      "Data columns (total 2 columns):\n",
      " #   Column  Non-Null Count   Dtype \n",
      "---  ------  --------------   ----- \n",
      " 0   Score   200000 non-null  int64 \n",
      " 1   Review  200000 non-null  object\n",
      "dtypes: int64(1), object(1)\n",
      "memory usage: 4.6+ MB\n"
     ]
    }
   ],
   "source": [
    "df.info()"
   ]
  },
  {
   "cell_type": "code",
   "execution_count": 14,
   "metadata": {},
   "outputs": [],
   "source": [
    "wordList = ['좋은데요', '좋습니다', '조아요','좋네요', '좋고','졸습니다', '나쁘지 않네요', '조아','좋다']\n",
    "change = '좋아요'\n",
    "\n",
    "for word in wordList:\n",
    "    df['Review'] = df['Review'].str.replace(word, change)"
   ]
  },
  {
   "cell_type": "code",
   "execution_count": 18,
   "metadata": {},
   "outputs": [
    {
     "data": {
      "text/plain": [
       "500    재구매 항상 여기 쇼핑몰 이용합니다. 흑 배송비가 흑흑. . 슬퍼요. . 배송비만아...\n",
       "501                                      계속 사용하던 제품입니다^^\n",
       "502    무독성 맞나요? 일단 더러운상태여서 닦아도 기스가 많고, 냄새가 너무너무 심함 개봉...\n",
       "503                          넉넉하니 크내요 이번캠핑에 잘 쓸수 있을꺼 같아요\n",
       "504                                 설치하기 조금 힘들었어요 빡빡하고ㅜㅜ\n",
       "505                                       가격만큼만 하는것 같네요.\n",
       "506    배송도 그저 그렇고 색상이 품절됐음 품절 표시를 해 놔야 하는데 여긴 그런것도 없고...\n",
       "507                                         사지마세요ㅜ저렴한이유가\n",
       "508    처음엔 향이 좀 쎘는데 잠깐 틀어놓으니까 괜찮아졌어요!! 샤워하고나면 욕실에 좋은 ...\n",
       "509                             재구매 너무 큰것만 왔어요. 금방 썩었어요.\n",
       "510    너무 별로예요.절대 구매하지마세요.몇번을 배달됐냐고 전화를 했는지..몇천원 더 싼데...\n",
       "511                                               제품이 좋음\n",
       "512                              재구매 항상쓰던건데 이번엔 사이즈 주문실수\n",
       "513                하나만 살 걸.. 두개 동시에 산 거 후회중. 서랍에서 썩고 있어요\n",
       "514                                          잘못 구매했어요. .\n",
       "515                                 잘 맞고 잘 닦입니다!!!! 좋아요!\n",
       "516                      아몬드함량이 높아좋아요. 싼가격에 많이 살수있어 좋아요.\n",
       "517                                        그지같음 잔머리굴리지말길\n",
       "518                                  재구매 빠른배송. 냥이들이 잘먹어요\n",
       "519                                   너무 덕지덕지 발리는 느낌이에요.\n",
       "520    에어프라이어에 구워 먹을려고 샀는데단맛도 없고 텁텁한게 맛없네요. 여지껏 사먹은 고...\n",
       "Name: Review, dtype: object"
      ]
     },
     "execution_count": 18,
     "metadata": {},
     "output_type": "execute_result"
    }
   ],
   "source": [
    "df.loc[500:520, 'Review']"
   ]
  },
  {
   "cell_type": "code",
   "execution_count": 19,
   "metadata": {},
   "outputs": [],
   "source": [
    "wordList = ['까끌','까실까실','까슬까슬','거칠다','깔깔','깔','꺼끌거리다','가칠','까슬하다','까칠','까칠까칠','꺼끌','꺼끌꺼끌','꺼칠','껄끄럽다','거슬거리다','가슬','가실','따끔']\n",
    "change = '따갑다'\n",
    "\n",
    "for word in wordList:\n",
    "    df['Review'] = df['Review'].str.replace(word, change)"
   ]
  },
  {
   "cell_type": "code",
   "execution_count": 15,
   "metadata": {},
   "outputs": [],
   "source": [
    "wordList = ['맛있습니다','맛있네요','맛있고']\n",
    "change = '맛있어요'\n",
    "\n",
    "for word in wordList:\n",
    "    df['Review'] = df['Review'].str.replace(word, change)"
   ]
  },
  {
   "cell_type": "code",
   "execution_count": 22,
   "metadata": {},
   "outputs": [
    {
     "data": {
      "text/html": [
       "<div>\n",
       "<style scoped>\n",
       "    .dataframe tbody tr th:only-of-type {\n",
       "        vertical-align: middle;\n",
       "    }\n",
       "\n",
       "    .dataframe tbody tr th {\n",
       "        vertical-align: top;\n",
       "    }\n",
       "\n",
       "    .dataframe thead th {\n",
       "        text-align: right;\n",
       "    }\n",
       "</style>\n",
       "<table border=\"1\" class=\"dataframe\">\n",
       "  <thead>\n",
       "    <tr style=\"text-align: right;\">\n",
       "      <th></th>\n",
       "      <th>Score</th>\n",
       "      <th>Review</th>\n",
       "    </tr>\n",
       "  </thead>\n",
       "  <tbody>\n",
       "    <tr>\n",
       "      <th>5000</th>\n",
       "      <td>1</td>\n",
       "      <td>진짜 돈주고 사기 아까워요 마감도 질도 발목을 잡아주지 못해 마냥 불편</td>\n",
       "    </tr>\n",
       "    <tr>\n",
       "      <th>5001</th>\n",
       "      <td>2</td>\n",
       "      <td>기포도 많이 생기고.</td>\n",
       "    </tr>\n",
       "    <tr>\n",
       "      <th>5002</th>\n",
       "      <td>1</td>\n",
       "      <td>딱 가격만큼인거 같아요</td>\n",
       "    </tr>\n",
       "    <tr>\n",
       "      <th>5003</th>\n",
       "      <td>2</td>\n",
       "      <td>배송비는 따로 받으시고 묶음배송..</td>\n",
       "    </tr>\n",
       "    <tr>\n",
       "      <th>5004</th>\n",
       "      <td>5</td>\n",
       "      <td>확실히 써보고 좋아진게 느껴집니다.</td>\n",
       "    </tr>\n",
       "    <tr>\n",
       "      <th>5005</th>\n",
       "      <td>5</td>\n",
       "      <td>빨리 도착했어요 다만 포장이 꼼꼼하지 않네요 별도의 추가포장없이 그냥 뽁뽁이있는봉투...</td>\n",
       "    </tr>\n",
       "    <tr>\n",
       "      <th>5006</th>\n",
       "      <td>2</td>\n",
       "      <td>진짜 이거 너무하잖아요 사이즈 생각보다 너무 작습니다.... 일반 남자 신발은 두켤...</td>\n",
       "    </tr>\n",
       "    <tr>\n",
       "      <th>5007</th>\n",
       "      <td>4</td>\n",
       "      <td>존ㅅ아오ㅡㄱ ㄴㅈㅅㄷㅅㄷㄴㅈ긋ㄷㄴㅈ느슷ㄷㄴㄷㄱㄷㅅㄷㅇㄷㄴㄷㄴㅈㅅㄴㄷㅅㄷㅅㄷㅅㄷㄴㅈㄱ...</td>\n",
       "    </tr>\n",
       "    <tr>\n",
       "      <th>5008</th>\n",
       "      <td>2</td>\n",
       "      <td>기대이하에요. 싼데는 다 이유가 있네요. 괜히 샀어요</td>\n",
       "    </tr>\n",
       "    <tr>\n",
       "      <th>5009</th>\n",
       "      <td>1</td>\n",
       "      <td>배송 일주일 넘게 걸렸어요. 다른곳보다 조금 더 저렴해서 주문한건데..다신 여기서 ...</td>\n",
       "    </tr>\n",
       "    <tr>\n",
       "      <th>5010</th>\n",
       "      <td>5</td>\n",
       "      <td>원단이 입은듯 안입은듯 너무 부드럽고 편해서 좋아요.</td>\n",
       "    </tr>\n",
       "    <tr>\n",
       "      <th>5011</th>\n",
       "      <td>5</td>\n",
       "      <td>튼튼하고 손목을 잘 받쳐주네요~</td>\n",
       "    </tr>\n",
       "    <tr>\n",
       "      <th>5012</th>\n",
       "      <td>4</td>\n",
       "      <td>가성비좋아요 배송 빠르나 유격이 쫌 있네요</td>\n",
       "    </tr>\n",
       "    <tr>\n",
       "      <th>5013</th>\n",
       "      <td>5</td>\n",
       "      <td>이번이 2번째인데 맛있어요~</td>\n",
       "    </tr>\n",
       "    <tr>\n",
       "      <th>5014</th>\n",
       "      <td>4</td>\n",
       "      <td>용량이 적긴 진짜 적어요... 한손에 들어오는 사이즈네요ㅠㅠ 하지만 부드럽게 잘 발...</td>\n",
       "    </tr>\n",
       "    <tr>\n",
       "      <th>5015</th>\n",
       "      <td>2</td>\n",
       "      <td>다 깨져오고 난리도 아니네요.... 택배기사가 던진건 알겠는데 그래도 포장을 그렇게...</td>\n",
       "    </tr>\n",
       "    <tr>\n",
       "      <th>5016</th>\n",
       "      <td>1</td>\n",
       "      <td>일주일 정도 사용해 보았는데 소음은 견딜만 합니다 하지만 모기는 단 한마리도 잡히지...</td>\n",
       "    </tr>\n",
       "    <tr>\n",
       "      <th>5017</th>\n",
       "      <td>2</td>\n",
       "      <td>아주 마음에 들어요 자주 이용 할게요</td>\n",
       "    </tr>\n",
       "    <tr>\n",
       "      <th>5018</th>\n",
       "      <td>5</td>\n",
       "      <td>치즈스틱 혹시 실패할까봐 5개 들이로 샀는데 10개 들이로 살 걸 그랬나봐요. 맥주...</td>\n",
       "    </tr>\n",
       "    <tr>\n",
       "      <th>5019</th>\n",
       "      <td>2</td>\n",
       "      <td>대창이 넘 느끼해서 전반적으로 칼칼하기보다 느끼했습니다.낙곱새 좋아하는데 반도 못 ...</td>\n",
       "    </tr>\n",
       "  </tbody>\n",
       "</table>\n",
       "</div>"
      ],
      "text/plain": [
       "      Score                                             Review\n",
       "5000      1            진짜 돈주고 사기 아까워요 마감도 질도 발목을 잡아주지 못해 마냥 불편\n",
       "5001      2                                        기포도 많이 생기고.\n",
       "5002      1                                       딱 가격만큼인거 같아요\n",
       "5003      2                                배송비는 따로 받으시고 묶음배송..\n",
       "5004      5                                확실히 써보고 좋아진게 느껴집니다.\n",
       "5005      5  빨리 도착했어요 다만 포장이 꼼꼼하지 않네요 별도의 추가포장없이 그냥 뽁뽁이있는봉투...\n",
       "5006      2  진짜 이거 너무하잖아요 사이즈 생각보다 너무 작습니다.... 일반 남자 신발은 두켤...\n",
       "5007      4  존ㅅ아오ㅡㄱ ㄴㅈㅅㄷㅅㄷㄴㅈ긋ㄷㄴㅈ느슷ㄷㄴㄷㄱㄷㅅㄷㅇㄷㄴㄷㄴㅈㅅㄴㄷㅅㄷㅅㄷㅅㄷㄴㅈㄱ...\n",
       "5008      2                      기대이하에요. 싼데는 다 이유가 있네요. 괜히 샀어요\n",
       "5009      1  배송 일주일 넘게 걸렸어요. 다른곳보다 조금 더 저렴해서 주문한건데..다신 여기서 ...\n",
       "5010      5                      원단이 입은듯 안입은듯 너무 부드럽고 편해서 좋아요.\n",
       "5011      5                                  튼튼하고 손목을 잘 받쳐주네요~\n",
       "5012      4                            가성비좋아요 배송 빠르나 유격이 쫌 있네요\n",
       "5013      5                                    이번이 2번째인데 맛있어요~\n",
       "5014      4  용량이 적긴 진짜 적어요... 한손에 들어오는 사이즈네요ㅠㅠ 하지만 부드럽게 잘 발...\n",
       "5015      2  다 깨져오고 난리도 아니네요.... 택배기사가 던진건 알겠는데 그래도 포장을 그렇게...\n",
       "5016      1  일주일 정도 사용해 보았는데 소음은 견딜만 합니다 하지만 모기는 단 한마리도 잡히지...\n",
       "5017      2                               아주 마음에 들어요 자주 이용 할게요\n",
       "5018      5  치즈스틱 혹시 실패할까봐 5개 들이로 샀는데 10개 들이로 살 걸 그랬나봐요. 맥주...\n",
       "5019      2  대창이 넘 느끼해서 전반적으로 칼칼하기보다 느끼했습니다.낙곱새 좋아하는데 반도 못 ..."
      ]
     },
     "execution_count": 22,
     "metadata": {},
     "output_type": "execute_result"
    }
   ],
   "source": []
  },
  {
   "cell_type": "code",
   "execution_count": 3,
   "metadata": {},
   "outputs": [],
   "source": [
    "f = open(\"../../data/review_synonym.txt\", 'r', encoding= 'utf-8')"
   ]
  },
  {
   "cell_type": "code",
   "execution_count": 4,
   "metadata": {},
   "outputs": [],
   "source": [
    "lines = f.readlines()"
   ]
  },
  {
   "cell_type": "code",
   "execution_count": 5,
   "metadata": {},
   "outputs": [],
   "source": [
    "for idx, l in enumerate(lines):\n",
    "    lines[idx] = l.strip()"
   ]
  },
  {
   "cell_type": "code",
   "execution_count": 7,
   "metadata": {},
   "outputs": [
    {
     "data": {
      "text/plain": [
       "['가깝다', '가까이']"
      ]
     },
     "execution_count": 7,
     "metadata": {},
     "output_type": "execute_result"
    }
   ],
   "source": [
    "lines[0].split(',')"
   ]
  },
  {
   "cell_type": "code",
   "execution_count": 8,
   "metadata": {},
   "outputs": [],
   "source": [
    "lines_dic = {}\n",
    "\n",
    "for idx, l in enumerate(lines):\n",
    "    temp = l.split(',')\n",
    "    lines_dic[temp[0]] = temp[1:]"
   ]
  },
  {
   "cell_type": "code",
   "execution_count": 11,
   "metadata": {},
   "outputs": [],
   "source": [
    "for key, wordList in lines_dic.items():\n",
    "    for word in wordList:\n",
    "        df['Review'] = df['Review'].str.replace(word, key)"
   ]
  },
  {
   "cell_type": "code",
   "execution_count": 17,
   "metadata": {},
   "outputs": [],
   "source": [
    "df.to_csv(\"../../data/naver_shopping_preprocessed.csv\")"
   ]
  },
  {
   "cell_type": "code",
   "execution_count": 18,
   "metadata": {},
   "outputs": [],
   "source": [
    "df_man = pd.read_csv(\"../../data/men_review_musinsa.csv\", encoding = 'utf-8')"
   ]
  },
  {
   "cell_type": "code",
   "execution_count": 19,
   "metadata": {},
   "outputs": [
    {
     "data": {
      "text/html": [
       "<div>\n",
       "<style scoped>\n",
       "    .dataframe tbody tr th:only-of-type {\n",
       "        vertical-align: middle;\n",
       "    }\n",
       "\n",
       "    .dataframe tbody tr th {\n",
       "        vertical-align: top;\n",
       "    }\n",
       "\n",
       "    .dataframe thead th {\n",
       "        text-align: right;\n",
       "    }\n",
       "</style>\n",
       "<table border=\"1\" class=\"dataframe\">\n",
       "  <thead>\n",
       "    <tr style=\"text-align: right;\">\n",
       "      <th></th>\n",
       "      <th>Unnamed: 0</th>\n",
       "      <th>0</th>\n",
       "    </tr>\n",
       "  </thead>\n",
       "  <tbody>\n",
       "    <tr>\n",
       "      <th>0</th>\n",
       "      <td>0</td>\n",
       "      <td>조아요조아요조아요조아요조아요조아요조아요</td>\n",
       "    </tr>\n",
       "    <tr>\n",
       "      <th>1</th>\n",
       "      <td>1</td>\n",
       "      <td>사이즈 선택에 있어서 교환도 하고 많이 힘들었지만 옷은 가격 대비 좋아요</td>\n",
       "    </tr>\n",
       "    <tr>\n",
       "      <th>2</th>\n",
       "      <td>2</td>\n",
       "      <td>원단이 잘 늘어나서 좋습니다 활동하는데 거슬리는게 없습니드</td>\n",
       "    </tr>\n",
       "    <tr>\n",
       "      <th>3</th>\n",
       "      <td>3</td>\n",
       "      <td>무탠다드 정말 인정!! 앞으로 자주 입을꺼 같앙!! 최고</td>\n",
       "    </tr>\n",
       "    <tr>\n",
       "      <th>4</th>\n",
       "      <td>4</td>\n",
       "      <td>할인해서 좋은상품 잘구매한것 같습니다~'' 이쁘고 깔금하고 사이즈도 딱 좋습니다~^^</td>\n",
       "    </tr>\n",
       "  </tbody>\n",
       "</table>\n",
       "</div>"
      ],
      "text/plain": [
       "   Unnamed: 0                                                0\n",
       "0           0                            조아요조아요조아요조아요조아요조아요조아요\n",
       "1           1         사이즈 선택에 있어서 교환도 하고 많이 힘들었지만 옷은 가격 대비 좋아요\n",
       "2           2                 원단이 잘 늘어나서 좋습니다 활동하는데 거슬리는게 없습니드\n",
       "3           3                  무탠다드 정말 인정!! 앞으로 자주 입을꺼 같앙!! 최고\n",
       "4           4  할인해서 좋은상품 잘구매한것 같습니다~'' 이쁘고 깔금하고 사이즈도 딱 좋습니다~^^"
      ]
     },
     "execution_count": 19,
     "metadata": {},
     "output_type": "execute_result"
    }
   ],
   "source": [
    "df_man.head()"
   ]
  },
  {
   "cell_type": "code",
   "execution_count": 20,
   "metadata": {},
   "outputs": [
    {
     "data": {
      "text/plain": [
       "0                                 조아요조아요조아요조아요조아요조아요조아요\n",
       "1              사이즈 선택에 있어서 교환도 하고 많이 힘들었지만 옷은 가격 대비 좋아요\n",
       "2                      원단이 잘 늘어나서 좋습니다 활동하는데 거슬리는게 없습니드\n",
       "3                       무탠다드 정말 인정!! 앞으로 자주 입을꺼 같앙!! 최고\n",
       "4       할인해서 좋은상품 잘구매한것 같습니다~'' 이쁘고 깔금하고 사이즈도 딱 좋습니다~^^\n",
       "                             ...                       \n",
       "9945                     베이직하게 입기좋아요. 입문용으로 쓰기에는 더없이좋네요\n",
       "9946                봄에 입으려고 샀는데 좋은 가격에 잘 산 것 같습니다. 좋아요.\n",
       "9947          생각보다 얇긴하네요 근데 주머니막혀있는데 이거 코트처럼 직접 뜯는거 맞죠?\n",
       "9948                               그만큼신나시다는거지무야호야호얄라셩호호\n",
       "9949                소매가 살짝 긴거 외에는 좋습니다 블레이저 처음인데 잘쓰겠습니다\n",
       "Name: 0, Length: 9950, dtype: object"
      ]
     },
     "execution_count": 20,
     "metadata": {},
     "output_type": "execute_result"
    }
   ],
   "source": [
    "df_man[df_man.columns[1]]"
   ]
  },
  {
   "cell_type": "code",
   "execution_count": null,
   "metadata": {},
   "outputs": [],
   "source": []
  }
 ],
 "metadata": {
  "kernelspec": {
   "display_name": "Python 3 (ipykernel)",
   "language": "python",
   "name": "python3"
  },
  "language_info": {
   "codemirror_mode": {
    "name": "ipython",
    "version": 3
   },
   "file_extension": ".py",
   "mimetype": "text/x-python",
   "name": "python",
   "nbconvert_exporter": "python",
   "pygments_lexer": "ipython3",
   "version": "3.9.16"
  },
  "vscode": {
   "interpreter": {
    "hash": "8980de4a27bf89e986bf71fe1fbb5d572934705242a5da409cea5b4049808f61"
   }
  }
 },
 "nbformat": 4,
 "nbformat_minor": 2
}
